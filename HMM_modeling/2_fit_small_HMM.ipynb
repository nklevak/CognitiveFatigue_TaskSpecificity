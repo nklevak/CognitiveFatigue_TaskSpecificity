{
 "cells": [
  {
   "cell_type": "markdown",
   "metadata": {},
   "source": [
    "Goal: fit a 2 state heirarchical HMM on the data to detect fatigue vs not fatigue.\n",
    "\n",
    "Data to feed in: subject_data_for_HMM.json\n",
    "\n",
    "Data format:\n",
    "84 subjects\n",
    "\n",
    "subject_data = {\n",
    "    '1': {\n",
    "        'epoch_accuracy': [0.8, 0.7, 0.9, ...],  # 30 values (one value pxser block)\n",
    "        'post_epoch_post_cue_rest_duration': [2.1, 3.5, 1.8, ...],  # 30 values (one value per block)\n",
    "        'rest_cue_type': ['switch' or 'stay'] # if the cue before the rest period was switch or stay (basically this is the same as epoch_follows_task_switch but one row up)\n",
    "        'epoch_follows_task_switch': [1 if switch, 0 if stay], # if this block was a product of a task switch (first row has to be NA because it was neither)\n",
    "        'block_number': [1,1,1, 2,2,2, 3,3,3, ..., 10,10,10],\n",
    "        'epoch_within_block': [1,2,3, 1,2,3, 1,2,3, ..., 1,2,3],\n",
    "        'overall_epoch': [1,2,3,4,5,6,7,8,9, ..., 28,29,30],\n",
    "        'game_type': ['A','A','A', 'B','B','B', ...],\n",
    "        'pre_epoch_rest_duration': [previous rest duration for each epoch] # first row has to be NA because there was no previous rest duration\n",
    "    },\n",
    "    # ... for all 84 subjects\n",
    "}"
   ]
  },
  {
   "cell_type": "code",
   "execution_count": 55,
   "metadata": {},
   "outputs": [],
   "source": [
    "# imports\n",
    "import json\n",
    "import numpy as np\n",
    "import pandas as pd\n",
    "import pymc as pm\n",
    "import pytensor as pt\n",
    "import pytensor.tensor as pt\n"
   ]
  },
  {
   "cell_type": "code",
   "execution_count": 56,
   "metadata": {},
   "outputs": [],
   "source": [
    "# load the data\n",
    "with open('subject_data_for_HMM.json', 'r') as f:\n",
    "    subject_data = json.load(f)"
   ]
  },
  {
   "cell_type": "code",
   "execution_count": 57,
   "metadata": {},
   "outputs": [],
   "source": [
    "# Prepare data: list of arrays, one per subject\n",
    "# emissions (what it's predicting)\n",
    "epoch_accuracies = [np.array(subj['epoch_accuracy']) for subj in subject_data.values()]\n",
    "rest_durations = [np.array(subj['post_epoch_post_cue_rest_duration']) for subj in subject_data.values()]\n",
    "\n",
    "# covariates (depends on these)\n",
    "overall_epoch = [np.array(subj['overall_epoch']) for subj in subject_data.values()]\n",
    "game_type = [np.array(subj['game_type']) for subj in subject_data.values()]\n",
    "game_type_numeric = [\n",
    "    np.array([0 if g == 'digit_span' else 1 for g in subj['game_type']])\n",
    "    for subj in subject_data.values()\n",
    "]\n",
    "\n",
    "rest_cue_type = [np.array(subj['rest_cue_type']) for subj in subject_data.values()]# later model as Predictors of Transition Probabilities\n",
    "epoch_follows_task_switch = [np.array(subj['epoch_follows_task_switch']) for subj in subject_data.values()]# later model as Predictors of Transition Probabilities\n",
    "\n",
    "# data about the dataset\n",
    "n_subjects = len(epoch_accuracies)\n",
    "lengths = [len(x) for x in epoch_accuracies]\n",
    "\n",
    "# concatenate all of the relevant vars as observations (the emissions)\n",
    "all_obs = [np.column_stack((acc, rest)) for acc, rest in zip(epoch_accuracies, rest_durations)]\n",
    "\n",
    "n_states = 2 # high fatigue, low fatigue"
   ]
  },
  {
   "cell_type": "code",
   "execution_count": 70,
   "metadata": {},
   "outputs": [
    {
     "ename": "AttributeError",
     "evalue": "module 'pytensor.tensor' has no attribute 'scan'",
     "output_type": "error",
     "traceback": [
      "\u001b[0;31m---------------------------------------------------------------------------\u001b[0m",
      "\u001b[0;31mAttributeError\u001b[0m                            Traceback (most recent call last)",
      "Cell \u001b[0;32mIn[70], line 60\u001b[0m\n\u001b[1;32m     44\u001b[0m     obs_i \u001b[38;5;241m=\u001b[39m pm\u001b[38;5;241m.\u001b[39mCustomDist(\n\u001b[1;32m     45\u001b[0m     \u001b[38;5;124mf\u001b[39m\u001b[38;5;124m'\u001b[39m\u001b[38;5;124mobs_\u001b[39m\u001b[38;5;132;01m{\u001b[39;00mi\u001b[38;5;132;01m}\u001b[39;00m\u001b[38;5;124m'\u001b[39m,\n\u001b[1;32m     46\u001b[0m     all_obs[i],            \u001b[38;5;66;03m# obs\u001b[39;00m\n\u001b[0;32m   (...)\u001b[0m\n\u001b[1;32m     57\u001b[0m     ndim_supp\u001b[38;5;241m=\u001b[39m\u001b[38;5;241m0\u001b[39m,\n\u001b[1;32m     58\u001b[0m     shape\u001b[38;5;241m=\u001b[39m())  \u001b[38;5;66;03m# or shape=all_obs[i].shape if needed)\u001b[39;00m\n\u001b[1;32m     59\u001b[0m \u001b[38;5;66;03m# --- Sampling ---\u001b[39;00m\n\u001b[0;32m---> 60\u001b[0m trace \u001b[38;5;241m=\u001b[39m \u001b[43mpm\u001b[49m\u001b[38;5;241;43m.\u001b[39;49m\u001b[43msample\u001b[49m\u001b[43m(\u001b[49m\u001b[38;5;241;43m1000\u001b[39;49m\u001b[43m,\u001b[49m\u001b[43m \u001b[49m\u001b[43mtune\u001b[49m\u001b[38;5;241;43m=\u001b[39;49m\u001b[38;5;241;43m1000\u001b[39;49m\u001b[43m,\u001b[49m\u001b[43m \u001b[49m\u001b[43mtarget_accept\u001b[49m\u001b[38;5;241;43m=\u001b[39;49m\u001b[38;5;241;43m0.95\u001b[39;49m\u001b[43m)\u001b[49m\n",
      "File \u001b[0;32m~/Desktop/FYP_2024/CognitiveFatigue_TaskSpecificity/.venv/lib/python3.9/site-packages/pymc/sampling/mcmc.py:679\u001b[0m, in \u001b[0;36msample\u001b[0;34m(draws, tune, chains, cores, random_seed, progressbar, step, var_names, nuts_sampler, initvals, init, jitter_max_retries, n_init, trace, discard_tuned_samples, compute_convergence_checks, keep_warning_stat, return_inferencedata, idata_kwargs, nuts_sampler_kwargs, callback, mp_ctx, model, **kwargs)\u001b[0m\n\u001b[1;32m    676\u001b[0m         auto_nuts_init \u001b[38;5;241m=\u001b[39m \u001b[38;5;28;01mFalse\u001b[39;00m\n\u001b[1;32m    678\u001b[0m initial_points \u001b[38;5;241m=\u001b[39m \u001b[38;5;28;01mNone\u001b[39;00m\n\u001b[0;32m--> 679\u001b[0m step \u001b[38;5;241m=\u001b[39m \u001b[43massign_step_methods\u001b[49m\u001b[43m(\u001b[49m\u001b[43mmodel\u001b[49m\u001b[43m,\u001b[49m\u001b[43m \u001b[49m\u001b[43mstep\u001b[49m\u001b[43m,\u001b[49m\u001b[43m \u001b[49m\u001b[43mmethods\u001b[49m\u001b[38;5;241;43m=\u001b[39;49m\u001b[43mpm\u001b[49m\u001b[38;5;241;43m.\u001b[39;49m\u001b[43mSTEP_METHODS\u001b[49m\u001b[43m,\u001b[49m\u001b[43m \u001b[49m\u001b[43mstep_kwargs\u001b[49m\u001b[38;5;241;43m=\u001b[39;49m\u001b[43mkwargs\u001b[49m\u001b[43m)\u001b[49m\n\u001b[1;32m    681\u001b[0m \u001b[38;5;28;01mif\u001b[39;00m nuts_sampler \u001b[38;5;241m!=\u001b[39m \u001b[38;5;124m\"\u001b[39m\u001b[38;5;124mpymc\u001b[39m\u001b[38;5;124m\"\u001b[39m:\n\u001b[1;32m    682\u001b[0m     \u001b[38;5;28;01mif\u001b[39;00m \u001b[38;5;129;01mnot\u001b[39;00m \u001b[38;5;28misinstance\u001b[39m(step, NUTS):\n",
      "File \u001b[0;32m~/Desktop/FYP_2024/CognitiveFatigue_TaskSpecificity/.venv/lib/python3.9/site-packages/pymc/sampling/mcmc.py:210\u001b[0m, in \u001b[0;36massign_step_methods\u001b[0;34m(model, step, methods, step_kwargs)\u001b[0m\n\u001b[1;32m    208\u001b[0m methods_list: \u001b[38;5;28mlist\u001b[39m[\u001b[38;5;28mtype\u001b[39m[BlockedStep]] \u001b[38;5;241m=\u001b[39m \u001b[38;5;28mlist\u001b[39m(methods \u001b[38;5;129;01mor\u001b[39;00m pm\u001b[38;5;241m.\u001b[39mSTEP_METHODS)\n\u001b[1;32m    209\u001b[0m selected_steps: \u001b[38;5;28mdict\u001b[39m[\u001b[38;5;28mtype\u001b[39m[BlockedStep], \u001b[38;5;28mlist\u001b[39m] \u001b[38;5;241m=\u001b[39m {}\n\u001b[0;32m--> 210\u001b[0m model_logp \u001b[38;5;241m=\u001b[39m \u001b[43mmodel\u001b[49m\u001b[38;5;241;43m.\u001b[39;49m\u001b[43mlogp\u001b[49m\u001b[43m(\u001b[49m\u001b[43m)\u001b[49m\n\u001b[1;32m    212\u001b[0m \u001b[38;5;28;01mfor\u001b[39;00m var \u001b[38;5;129;01min\u001b[39;00m model\u001b[38;5;241m.\u001b[39mvalue_vars:\n\u001b[1;32m    213\u001b[0m     \u001b[38;5;28;01mif\u001b[39;00m var \u001b[38;5;129;01mnot\u001b[39;00m \u001b[38;5;129;01min\u001b[39;00m assigned_vars:\n\u001b[1;32m    214\u001b[0m         \u001b[38;5;66;03m# determine if a gradient can be computed\u001b[39;00m\n",
      "File \u001b[0;32m~/Desktop/FYP_2024/CognitiveFatigue_TaskSpecificity/.venv/lib/python3.9/site-packages/pymc/model/core.py:717\u001b[0m, in \u001b[0;36mModel.logp\u001b[0;34m(self, vars, jacobian, sum)\u001b[0m\n\u001b[1;32m    715\u001b[0m rv_logps: \u001b[38;5;28mlist\u001b[39m[TensorVariable] \u001b[38;5;241m=\u001b[39m []\n\u001b[1;32m    716\u001b[0m \u001b[38;5;28;01mif\u001b[39;00m rvs:\n\u001b[0;32m--> 717\u001b[0m     rv_logps \u001b[38;5;241m=\u001b[39m \u001b[43mtransformed_conditional_logp\u001b[49m\u001b[43m(\u001b[49m\n\u001b[1;32m    718\u001b[0m \u001b[43m        \u001b[49m\u001b[43mrvs\u001b[49m\u001b[38;5;241;43m=\u001b[39;49m\u001b[43mrvs\u001b[49m\u001b[43m,\u001b[49m\n\u001b[1;32m    719\u001b[0m \u001b[43m        \u001b[49m\u001b[43mrvs_to_values\u001b[49m\u001b[38;5;241;43m=\u001b[39;49m\u001b[38;5;28;43mself\u001b[39;49m\u001b[38;5;241;43m.\u001b[39;49m\u001b[43mrvs_to_values\u001b[49m\u001b[43m,\u001b[49m\n\u001b[1;32m    720\u001b[0m \u001b[43m        \u001b[49m\u001b[43mrvs_to_transforms\u001b[49m\u001b[38;5;241;43m=\u001b[39;49m\u001b[38;5;28;43mself\u001b[39;49m\u001b[38;5;241;43m.\u001b[39;49m\u001b[43mrvs_to_transforms\u001b[49m\u001b[43m,\u001b[49m\n\u001b[1;32m    721\u001b[0m \u001b[43m        \u001b[49m\u001b[43mjacobian\u001b[49m\u001b[38;5;241;43m=\u001b[39;49m\u001b[43mjacobian\u001b[49m\u001b[43m,\u001b[49m\n\u001b[1;32m    722\u001b[0m \u001b[43m    \u001b[49m\u001b[43m)\u001b[49m\n\u001b[1;32m    723\u001b[0m     \u001b[38;5;28;01massert\u001b[39;00m \u001b[38;5;28misinstance\u001b[39m(rv_logps, \u001b[38;5;28mlist\u001b[39m)\n\u001b[1;32m    725\u001b[0m \u001b[38;5;66;03m# Replace random variables by their value variables in potential terms\u001b[39;00m\n",
      "File \u001b[0;32m~/Desktop/FYP_2024/CognitiveFatigue_TaskSpecificity/.venv/lib/python3.9/site-packages/pymc/logprob/basic.py:612\u001b[0m, in \u001b[0;36mtransformed_conditional_logp\u001b[0;34m(rvs, rvs_to_values, rvs_to_transforms, jacobian, **kwargs)\u001b[0m\n\u001b[1;32m    609\u001b[0m     transform_rewrite \u001b[38;5;241m=\u001b[39m TransformValuesRewrite(values_to_transforms)  \u001b[38;5;66;03m# type: ignore\u001b[39;00m\n\u001b[1;32m    611\u001b[0m kwargs\u001b[38;5;241m.\u001b[39msetdefault(\u001b[38;5;124m\"\u001b[39m\u001b[38;5;124mwarn_rvs\u001b[39m\u001b[38;5;124m\"\u001b[39m, \u001b[38;5;28;01mFalse\u001b[39;00m)\n\u001b[0;32m--> 612\u001b[0m temp_logp_terms \u001b[38;5;241m=\u001b[39m \u001b[43mconditional_logp\u001b[49m\u001b[43m(\u001b[49m\n\u001b[1;32m    613\u001b[0m \u001b[43m    \u001b[49m\u001b[43mrvs_to_values\u001b[49m\u001b[43m,\u001b[49m\n\u001b[1;32m    614\u001b[0m \u001b[43m    \u001b[49m\u001b[43mextra_rewrites\u001b[49m\u001b[38;5;241;43m=\u001b[39;49m\u001b[43mtransform_rewrite\u001b[49m\u001b[43m,\u001b[49m\n\u001b[1;32m    615\u001b[0m \u001b[43m    \u001b[49m\u001b[43muse_jacobian\u001b[49m\u001b[38;5;241;43m=\u001b[39;49m\u001b[43mjacobian\u001b[49m\u001b[43m,\u001b[49m\n\u001b[1;32m    616\u001b[0m \u001b[43m    \u001b[49m\u001b[38;5;241;43m*\u001b[39;49m\u001b[38;5;241;43m*\u001b[39;49m\u001b[43mkwargs\u001b[49m\u001b[43m,\u001b[49m\n\u001b[1;32m    617\u001b[0m \u001b[43m\u001b[49m\u001b[43m)\u001b[49m\n\u001b[1;32m    619\u001b[0m \u001b[38;5;66;03m# The function returns the logp for every single value term we provided to it.\u001b[39;00m\n\u001b[1;32m    620\u001b[0m \u001b[38;5;66;03m# This includes the extra values we plugged in above, so we filter those we\u001b[39;00m\n\u001b[1;32m    621\u001b[0m \u001b[38;5;66;03m# actually wanted in the same order they were given in.\u001b[39;00m\n\u001b[1;32m    622\u001b[0m logp_terms \u001b[38;5;241m=\u001b[39m {}\n",
      "File \u001b[0;32m~/Desktop/FYP_2024/CognitiveFatigue_TaskSpecificity/.venv/lib/python3.9/site-packages/pymc/logprob/basic.py:542\u001b[0m, in \u001b[0;36mconditional_logp\u001b[0;34m(rv_values, warn_rvs, ir_rewriter, extra_rewrites, **kwargs)\u001b[0m\n\u001b[1;32m    539\u001b[0m q_values \u001b[38;5;241m=\u001b[39m remapped_vars[: \u001b[38;5;28mlen\u001b[39m(q_values)]\n\u001b[1;32m    540\u001b[0m q_rv_inputs \u001b[38;5;241m=\u001b[39m remapped_vars[\u001b[38;5;28mlen\u001b[39m(q_values) :]\n\u001b[0;32m--> 542\u001b[0m q_logprob_vars \u001b[38;5;241m=\u001b[39m \u001b[43m_logprob\u001b[49m\u001b[43m(\u001b[49m\n\u001b[1;32m    543\u001b[0m \u001b[43m    \u001b[49m\u001b[43mnode\u001b[49m\u001b[38;5;241;43m.\u001b[39;49m\u001b[43mop\u001b[49m\u001b[43m,\u001b[49m\n\u001b[1;32m    544\u001b[0m \u001b[43m    \u001b[49m\u001b[43mq_values\u001b[49m\u001b[43m,\u001b[49m\n\u001b[1;32m    545\u001b[0m \u001b[43m    \u001b[49m\u001b[38;5;241;43m*\u001b[39;49m\u001b[43mq_rv_inputs\u001b[49m\u001b[43m,\u001b[49m\n\u001b[1;32m    546\u001b[0m \u001b[43m    \u001b[49m\u001b[38;5;241;43m*\u001b[39;49m\u001b[38;5;241;43m*\u001b[39;49m\u001b[43mkwargs\u001b[49m\u001b[43m,\u001b[49m\n\u001b[1;32m    547\u001b[0m \u001b[43m\u001b[49m\u001b[43m)\u001b[49m\n\u001b[1;32m    549\u001b[0m \u001b[38;5;28;01mif\u001b[39;00m \u001b[38;5;129;01mnot\u001b[39;00m \u001b[38;5;28misinstance\u001b[39m(q_logprob_vars, (\u001b[38;5;28mlist\u001b[39m, \u001b[38;5;28mtuple\u001b[39m)):\n\u001b[1;32m    550\u001b[0m     q_logprob_vars \u001b[38;5;241m=\u001b[39m [q_logprob_vars]\n",
      "File \u001b[0;32m~/opt/anaconda3/lib/python3.9/functools.py:888\u001b[0m, in \u001b[0;36msingledispatch.<locals>.wrapper\u001b[0;34m(*args, **kw)\u001b[0m\n\u001b[1;32m    884\u001b[0m \u001b[38;5;28;01mif\u001b[39;00m \u001b[38;5;129;01mnot\u001b[39;00m args:\n\u001b[1;32m    885\u001b[0m     \u001b[38;5;28;01mraise\u001b[39;00m \u001b[38;5;167;01mTypeError\u001b[39;00m(\u001b[38;5;124mf\u001b[39m\u001b[38;5;124m'\u001b[39m\u001b[38;5;132;01m{\u001b[39;00mfuncname\u001b[38;5;132;01m}\u001b[39;00m\u001b[38;5;124m requires at least \u001b[39m\u001b[38;5;124m'\u001b[39m\n\u001b[1;32m    886\u001b[0m                     \u001b[38;5;124m'\u001b[39m\u001b[38;5;124m1 positional argument\u001b[39m\u001b[38;5;124m'\u001b[39m)\n\u001b[0;32m--> 888\u001b[0m \u001b[38;5;28;01mreturn\u001b[39;00m \u001b[43mdispatch\u001b[49m\u001b[43m(\u001b[49m\u001b[43margs\u001b[49m\u001b[43m[\u001b[49m\u001b[38;5;241;43m0\u001b[39;49m\u001b[43m]\u001b[49m\u001b[38;5;241;43m.\u001b[39;49m\u001b[38;5;18;43m__class__\u001b[39;49m\u001b[43m)\u001b[49m\u001b[43m(\u001b[49m\u001b[38;5;241;43m*\u001b[39;49m\u001b[43margs\u001b[49m\u001b[43m,\u001b[49m\u001b[43m \u001b[49m\u001b[38;5;241;43m*\u001b[39;49m\u001b[38;5;241;43m*\u001b[39;49m\u001b[43mkw\u001b[49m\u001b[43m)\u001b[49m\n",
      "File \u001b[0;32m~/Desktop/FYP_2024/CognitiveFatigue_TaskSpecificity/.venv/lib/python3.9/site-packages/pymc/distributions/distribution.py:823\u001b[0m, in \u001b[0;36m_CustomSymbolicDist.rv_op.<locals>.custom_dist_logp\u001b[0;34m(op, values, size, *params, **kwargs)\u001b[0m\n\u001b[1;32m    821\u001b[0m \u001b[38;5;129m@_logprob\u001b[39m\u001b[38;5;241m.\u001b[39mregister(rv_type)\n\u001b[1;32m    822\u001b[0m \u001b[38;5;28;01mdef\u001b[39;00m\u001b[38;5;250m \u001b[39m\u001b[38;5;21mcustom_dist_logp\u001b[39m(op, values, size, \u001b[38;5;241m*\u001b[39mparams, \u001b[38;5;241m*\u001b[39m\u001b[38;5;241m*\u001b[39mkwargs):\n\u001b[0;32m--> 823\u001b[0m     \u001b[38;5;28;01mreturn\u001b[39;00m \u001b[43mlogp\u001b[49m\u001b[43m(\u001b[49m\u001b[43mvalues\u001b[49m\u001b[43m[\u001b[49m\u001b[38;5;241;43m0\u001b[39;49m\u001b[43m]\u001b[49m\u001b[43m,\u001b[49m\u001b[43m \u001b[49m\u001b[38;5;241;43m*\u001b[39;49m\u001b[43mparams\u001b[49m\u001b[43m[\u001b[49m\u001b[43m:\u001b[49m\u001b[43m \u001b[49m\u001b[38;5;28;43mlen\u001b[39;49m\u001b[43m(\u001b[49m\u001b[43mdist_params\u001b[49m\u001b[43m)\u001b[49m\u001b[43m]\u001b[49m\u001b[43m)\u001b[49m\n",
      "Cell \u001b[0;32mIn[70], line 38\u001b[0m, in \u001b[0;36mHMMCustomDist.logp\u001b[0;34m(size, value, game, time, base_mu, beta_game, beta_time, sigma, pi, A)\u001b[0m\n\u001b[1;32m     36\u001b[0m     \u001b[38;5;28;01mreturn\u001b[39;00m alpha\n\u001b[1;32m     37\u001b[0m alpha_0 \u001b[38;5;241m=\u001b[39m pt\u001b[38;5;241m.\u001b[39mlog(pi) \u001b[38;5;241m+\u001b[39m logp_states[\u001b[38;5;241m0\u001b[39m]\n\u001b[0;32m---> 38\u001b[0m alphas, _ \u001b[38;5;241m=\u001b[39m \u001b[43mpt\u001b[49m\u001b[38;5;241;43m.\u001b[39;49m\u001b[43mscan\u001b[49m(fn\u001b[38;5;241m=\u001b[39mscan_fn, sequences\u001b[38;5;241m=\u001b[39mlogp_states[\u001b[38;5;241m1\u001b[39m:], outputs_info\u001b[38;5;241m=\u001b[39malpha_0)\n\u001b[1;32m     39\u001b[0m logp \u001b[38;5;241m=\u001b[39m pt\u001b[38;5;241m.\u001b[39mlogsumexp(alphas[\u001b[38;5;241m-\u001b[39m\u001b[38;5;241m1\u001b[39m])\n\u001b[1;32m     40\u001b[0m \u001b[38;5;28;01mreturn\u001b[39;00m logp\n",
      "\u001b[0;31mAttributeError\u001b[0m: module 'pytensor.tensor' has no attribute 'scan'"
     ]
    }
   ],
   "source": [
    "with pm.Model() as model:\n",
    "    # Group-level priors for regression coefficients (per state, per emission)\n",
    "    group_base_mu = pm.Normal('group_base_mu', mu=0, sigma=1, shape=(n_states, 2))\n",
    "    group_beta_game = pm.Normal('group_beta_game', mu=0, sigma=1, shape=(n_states, 2))\n",
    "    group_beta_time = pm.Normal('group_beta_time', mu=0, sigma=1, shape=(n_states, 2))\n",
    "    group_sigma = pm.HalfNormal('group_sigma', sigma=1, shape=(n_states, 2))\n",
    "    \n",
    "    # Subject-level emission parameters\n",
    "    base_mu = pm.Normal('base_mu', mu=group_base_mu, sigma=1, shape=(n_subjects, n_states, 2))\n",
    "    beta_game = pm.Normal('beta_game', mu=group_beta_game, sigma=1, shape=(n_subjects, n_states, 2))\n",
    "    beta_time = pm.Normal('beta_time', mu=group_beta_time, sigma=1, shape=(n_subjects, n_states, 2))\n",
    "    sigma = pm.HalfNormal('sigma', sigma=group_sigma, shape=(n_subjects, n_states, 2))\n",
    "    \n",
    "    # Shared initial state probabilities and transition matrix\n",
    "    pi = pm.Dirichlet('pi', a=np.ones(n_states))\n",
    "    A = pm.Dirichlet('A', a=np.ones((n_states, n_states)), shape=(n_states, n_states))\n",
    "\n",
    "    # --- HMM Custom Distribution ---\n",
    "    class HMMCustomDist(pm.CustomDist):\n",
    "        @staticmethod\n",
    "        def dist(size, value, game, time, base_mu, beta_game, beta_time, sigma, pi, A):\n",
    "            return pt.zeros_like(value)\n",
    "        @staticmethod\n",
    "        def logp(size,value, game, time, base_mu, beta_game, beta_time, sigma, pi, A):\n",
    "            mu = (base_mu[None, :, :] +\n",
    "                beta_game[None, :, :] * game[:, None, None] +\n",
    "                beta_time[None, :, :] * time[:, None, None])\n",
    "            logp_states = []\n",
    "            for k in range(n_states):\n",
    "                logp_acc = pm.logp(pm.Normal.dist(mu=mu[:, k, 0], sigma=sigma[k, 0]), value[:, 0])\n",
    "                logp_rest = pm.logp(pm.Normal.dist(mu=mu[:, k, 1], sigma=sigma[k, 1]), value[:, 1])\n",
    "                logp_states.append(logp_acc + logp_rest)\n",
    "            logp_states = pt.stack(logp_states, axis=1)  # shape (n_obs, n_states)\n",
    "            def scan_fn(logp_t, prev_alpha):\n",
    "                alpha = pt.logsumexp(prev_alpha + pt.log(A), axis=1) + logp_t\n",
    "                return alpha\n",
    "            alpha_0 = pt.log(pi) + logp_states[0]\n",
    "            alphas, _ = pt.scan(fn=scan_fn, sequences=logp_states[1:], outputs_info=alpha_0)\n",
    "            logp = pt.logsumexp(alphas[-1])\n",
    "            return logp\n",
    "\n",
    "    # Create observed variables for each subject\n",
    "    for i in range(n_subjects):\n",
    "        obs_i = pm.CustomDist(\n",
    "        f'obs_{i}',\n",
    "        all_obs[i],            # obs\n",
    "        game_type_numeric[i],  # game\n",
    "        overall_epoch[i],      # time\n",
    "        base_mu[i],\n",
    "        beta_game[i],\n",
    "        beta_time[i],\n",
    "        sigma[i],\n",
    "        pi,\n",
    "        A,\n",
    "        dist=HMMCustomDist.dist,\n",
    "        logp=HMMCustomDist.logp,\n",
    "        ndim_supp=0,\n",
    "        shape=())  # or shape=all_obs[i].shape if needed)\n",
    "    # --- Sampling ---\n",
    "    trace = pm.sample(1000, tune=1000, target_accept=0.95)"
   ]
  },
  {
   "cell_type": "markdown",
   "metadata": {},
   "source": []
  }
 ],
 "metadata": {
  "kernelspec": {
   "display_name": "ls",
   "language": "python",
   "name": "ls"
  },
  "language_info": {
   "codemirror_mode": {
    "name": "ipython",
    "version": 3
   },
   "file_extension": ".py",
   "mimetype": "text/x-python",
   "name": "python",
   "nbconvert_exporter": "python",
   "pygments_lexer": "ipython3",
   "version": "3.9.12"
  }
 },
 "nbformat": 4,
 "nbformat_minor": 2
}
