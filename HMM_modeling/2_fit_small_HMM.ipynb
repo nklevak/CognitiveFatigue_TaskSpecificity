{
 "cells": [
  {
   "cell_type": "markdown",
   "metadata": {},
   "source": [
    "Goal: fit a 2 state heirarchical HMM on the data to detect fatigue vs not fatigue.\n",
    "\n",
    "Data to feed in: subject_data_for_HMM.json\n",
    "\n",
    "Data format:\n",
    "84 subjects\n",
    "\n",
    "subject_data = {\n",
    "    '1': {\n",
    "        'epoch_accuracy': [0.8, 0.7, 0.9, ...],  # 30 values (one value pxser block)\n",
    "        'post_epoch_post_cue_rest_duration': [2.1, 3.5, 1.8, ...],  # 30 values (one value per block)\n",
    "        'rest_cue_type': ['switch' or 'stay'] # if the cue before the rest period was switch or stay (basically this is the same as epoch_follows_task_switch but one row up)\n",
    "        'epoch_follows_task_switch': [1 if switch, 0 if stay], # if this block was a product of a task switch (first row has to be NA because it was neither)\n",
    "        'block_number': [1,1,1, 2,2,2, 3,3,3, ..., 10,10,10],\n",
    "        'epoch_within_block': [1,2,3, 1,2,3, 1,2,3, ..., 1,2,3],\n",
    "        'overall_epoch': [1,2,3,4,5,6,7,8,9, ..., 28,29,30],\n",
    "        'game_type': ['A','A','A', 'B','B','B', ...],\n",
    "        'pre_epoch_rest_duration': [previous rest duration for each epoch] # first row has to be NA because there was no previous rest duration\n",
    "    },\n",
    "    # ... for all 84 subjects\n",
    "}"
   ]
  },
  {
   "cell_type": "code",
   "execution_count": 5,
   "metadata": {},
   "outputs": [],
   "source": [
    "# imports\n",
    "import json\n",
    "import numpy as np\n",
    "import pandas as pd\n",
    "import pymc as pm\n",
    "import pytensor.tensor as pt\n"
   ]
  },
  {
   "cell_type": "code",
   "execution_count": 3,
   "metadata": {},
   "outputs": [],
   "source": [
    "# load the data\n",
    "with open('subject_data_for_HMM.json', 'r') as f:\n",
    "    subject_data = json.load(f)"
   ]
  },
  {
   "cell_type": "code",
   "execution_count": 6,
   "metadata": {},
   "outputs": [],
   "source": [
    "# Prepare data: list of arrays, one per subject\n",
    "# emissions (what it's predicting)\n",
    "epoch_accuracies = [np.array(subj['epoch_accuracy']) for subj in subject_data.values()]\n",
    "rest_durations = [np.array(subj['post_epoch_post_cue_rest_duration']) for subj in subject_data.values()]\n",
    "\n",
    "# covariates (depends on these)\n",
    "# later model some of these as Predictors of Transition Probabilities\n",
    "rest_cue_type = [np.array(subj['rest_cue_type']) for subj in subject_data.values()]\n",
    "epoch_follows_task_switch = [np.array(subj['epoch_follows_task_switch']) for subj in subject_data.values()]\n",
    "overall_epoch = [np.array(subj['overall_epoch']) for subj in subject_data.values()]\n",
    "game_type = [np.array(subj['game_type']) for subj in subject_data.values()]\n",
    "\n",
    "# data about the dataset\n",
    "n_subjects = len(epoch_accuracies)\n",
    "lengths = [len(x) for x in epoch_accuracies]\n",
    "\n",
    "# concatenate all of the relevant vars as observations\n",
    "all_obs = [np.column_stack((acc, rest)) for acc, rest in zip(epoch_accuracies, rest_durations)]\n",
    "\n",
    "n_states = 2 # high fatigue, low fatigue"
   ]
  },
  {
   "cell_type": "code",
   "execution_count": null,
   "metadata": {},
   "outputs": [],
   "source": []
  },
  {
   "cell_type": "markdown",
   "metadata": {},
   "source": []
  }
 ],
 "metadata": {
  "kernelspec": {
   "display_name": "ls",
   "language": "python",
   "name": "ls"
  },
  "language_info": {
   "codemirror_mode": {
    "name": "ipython",
    "version": 3
   },
   "file_extension": ".py",
   "mimetype": "text/x-python",
   "name": "python",
   "nbconvert_exporter": "python",
   "pygments_lexer": "ipython3",
   "version": "3.9.12"
  }
 },
 "nbformat": 4,
 "nbformat_minor": 2
}
